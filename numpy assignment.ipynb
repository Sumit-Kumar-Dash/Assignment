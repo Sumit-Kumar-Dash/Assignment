{
 "cells": [
  {
   "cell_type": "markdown",
   "id": "1bf5f3c0",
   "metadata": {},
   "source": [
    "Q.Write a function so that the columns of the output matrix are powers of the input\n",
    "vector."
   ]
  },
  {
   "cell_type": "code",
   "execution_count": 1,
   "id": "1b25f7f9",
   "metadata": {},
   "outputs": [],
   "source": [
    "import numpy as np"
   ]
  },
  {
   "cell_type": "code",
   "execution_count": 5,
   "id": "b6400d8f",
   "metadata": {},
   "outputs": [
    {
     "name": "stdout",
     "output_type": "stream",
     "text": [
      "enter list of integers number splited by space2 4 6 8 9\n",
      "enter no.columns of output matrix4\n"
     ]
    },
    {
     "data": {
      "text/plain": [
       "array([[  8,   4,   2,   1],\n",
       "       [ 64,  16,   4,   1],\n",
       "       [216,  36,   6,   1],\n",
       "       [512,  64,   8,   1],\n",
       "       [729,  81,   9,   1]])"
      ]
     },
     "execution_count": 5,
     "metadata": {},
     "output_type": "execute_result"
    }
   ],
   "source": [
    "def calc(arr,k):\n",
    "    return np.vander(arr,k)\n",
    "arr=list(map(int,input(\"enter list of integers number splited by space\").split()))\n",
    "k=int(input(\"enter no.columns of output matrix\"))\n",
    "calc(arr,k)"
   ]
  },
  {
   "cell_type": "markdown",
   "id": "afe2a0e3",
   "metadata": {},
   "source": [
    "Q.Write a function to find moving average in an array over a window:\n",
    "Test it over [3, 5, 7, 2, 8, 10, 11, 65, 72, 81, 99, 100, 150] and window of 3."
   ]
  },
  {
   "cell_type": "code",
   "execution_count": 15,
   "id": "8d2f69aa",
   "metadata": {},
   "outputs": [
    {
     "name": "stdout",
     "output_type": "stream",
     "text": [
      "enter list of integers number splited by space3 5 7 2 8 10 11 65 72 81 99 100 150\n",
      "enter window size3\n",
      "[5.0, 4.666666666666667, 5.666666666666667, 6.666666666666667, 9.666666666666666, 28.666666666666668, 49.333333333333336, 72.66666666666667, 84.0, 93.33333333333333, 116.33333333333333]\n"
     ]
    }
   ],
   "source": [
    "def moving_average(arr,k):\n",
    "    l=[]\n",
    "    for i in range(len(arr)-k+1):\n",
    "        summ=np.sum(arr[i:i+k])\n",
    "        l.append(summ/k) \n",
    "    return l\n",
    "arr=list(map(int,input(\"enter list of integers number splited by space\").split()))\n",
    "k=int(input(\"enter window size\"))\n",
    "print(moving_average(arr,k))"
   ]
  },
  {
   "cell_type": "code",
   "execution_count": null,
   "id": "03db7f28",
   "metadata": {},
   "outputs": [],
   "source": []
  },
  {
   "cell_type": "code",
   "execution_count": null,
   "id": "c87f59dd",
   "metadata": {},
   "outputs": [],
   "source": []
  }
 ],
 "metadata": {
  "kernelspec": {
   "display_name": "Python 3",
   "language": "python",
   "name": "python3"
  },
  "language_info": {
   "codemirror_mode": {
    "name": "ipython",
    "version": 3
   },
   "file_extension": ".py",
   "mimetype": "text/x-python",
   "name": "python",
   "nbconvert_exporter": "python",
   "pygments_lexer": "ipython3",
   "version": "3.7.1"
  }
 },
 "nbformat": 4,
 "nbformat_minor": 5
}
