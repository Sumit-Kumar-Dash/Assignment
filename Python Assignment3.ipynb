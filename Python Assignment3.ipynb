{
 "cells": [
  {
   "cell_type": "code",
   "execution_count": 76,
   "id": "575ad6e1",
   "metadata": {},
   "outputs": [
    {
     "data": {
      "text/plain": [
       "-18"
      ]
     },
     "execution_count": 76,
     "metadata": {},
     "output_type": "execute_result"
    }
   ],
   "source": [
    "def myreduce(own_func,sequence,initial=0):\n",
    "    try:\n",
    "        if initial == 0:\n",
    "            val=sequence[0]\n",
    "            sequence=sequence[1:]\n",
    "        else:\n",
    "            val=initial\n",
    "        for i in sequence:\n",
    "            val=own_func(val,i)\n",
    "        return(val)\n",
    "    except Exception as e:\n",
    "        print(e)\n",
    "    \n",
    "print(myreduce(lambda a,b:a-b,li,1))"
   ]
  },
  {
   "cell_type": "code",
   "execution_count": 95,
   "id": "3e0d84a6",
   "metadata": {},
   "outputs": [
    {
     "name": "stdout",
     "output_type": "stream",
     "text": [
      "[1, 1]\n"
     ]
    }
   ],
   "source": [
    "def myfilter(my_func,sequence):\n",
    "    try:\n",
    "        l=[]\n",
    "        if my_func is None:\n",
    "            for i in sequence :\n",
    "                if i != False:\n",
    "                    l.append(i)\n",
    "        else:\n",
    "            for i in sequence:\n",
    "                res=my_func(i)\n",
    "                if res != False :\n",
    "                    l.append(i)\n",
    "        return l\n",
    "    except Exception as e:\n",
    "        print(e)\n",
    "print(myfilter(lambda a:5 if a<5 else False,[1,6,1]))"
   ]
  },
  {
   "cell_type": "code",
   "execution_count": 94,
   "id": "0109f198",
   "metadata": {},
   "outputs": [
    {
     "name": "stdout",
     "output_type": "stream",
     "text": [
      "['x', 'xx', 'xxx', 'xxxx', 'y', 'yy', 'yyy', 'yyyy', 'z', 'zz', 'zzz', 'zzzz']\n",
      "['x', 'y', 'z', 'xx', 'yy', 'zz', 'xxx', 'yyy', 'zzz', 'xxxx', 'yyyy', 'zzzz']\n",
      "[[2], [3], [4], [3], [4], [5], [4], [5], [6]]\n",
      "[[2, 3, 4, 5], [3, 4, 5, 6], [4, 5, 6, 7], [5, 6, 7, 8]]\n",
      "[(1, 1), (2, 1), (3, 1), (1, 2), (2, 2), (3, 2), (1, 3), (2, 3), (3, 3)]\n"
     ]
    }
   ],
   "source": [
    "l1=['x','y','z']\n",
    "l1_res=[i*j for i in l1 for j in range(1,5)]\n",
    "print(l1_res)\n",
    "\n",
    "l1_res1=[j*i for i in range(1,5) for j in l1]\n",
    "print(l1_res1)\n",
    "\n",
    "l2_res=[[i+j] for i in range(2,5) for j in range(3)]\n",
    "print(l2_res)\n",
    "\n",
    "l3_res=[[i,i+1,i+2,i+3] for i in range(2,6)]\n",
    "print(l3_res)\n",
    "\n",
    "l4_res=[(i,j) for j in range(1,4) for i in range(1,4)]\n",
    "print(l4_res)"
   ]
  },
  {
   "cell_type": "code",
   "execution_count": null,
   "id": "1d1b22cb",
   "metadata": {},
   "outputs": [],
   "source": []
  }
 ],
 "metadata": {
  "kernelspec": {
   "display_name": "Python 3",
   "language": "python",
   "name": "python3"
  },
  "language_info": {
   "codemirror_mode": {
    "name": "ipython",
    "version": 3
   },
   "file_extension": ".py",
   "mimetype": "text/x-python",
   "name": "python",
   "nbconvert_exporter": "python",
   "pygments_lexer": "ipython3",
   "version": "3.7.1"
  }
 },
 "nbformat": 4,
 "nbformat_minor": 5
}
