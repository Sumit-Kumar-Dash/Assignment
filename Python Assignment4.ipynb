{
 "cells": [
  {
   "cell_type": "markdown",
   "id": "5538ad5d",
   "metadata": {},
   "source": [
    "Q 1.1"
   ]
  },
  {
   "cell_type": "code",
   "execution_count": 1,
   "id": "e373e448",
   "metadata": {},
   "outputs": [],
   "source": [
    "class parent:\n",
    "    def __init__(self,a,b,c):\n",
    "        self.a=a\n",
    "        self.b=b\n",
    "        self.c=c\n",
    "class subclass(parent):\n",
    "    def __init__(self,*args):\n",
    "        super(subclass,self).__init__(*args)\n",
    "    def calculate(self):\n",
    "        s=(self.a+self.b+self.c)/2\n",
    "        self.area= (s*(s-self.a)*(s-self.b)*(s-self.c)) ** 0.5\n",
    "        return self.area\n"
   ]
  },
  {
   "cell_type": "code",
   "execution_count": 2,
   "id": "a1efcd3b",
   "metadata": {},
   "outputs": [
    {
     "name": "stdout",
     "output_type": "stream",
     "text": [
      "Enter the sides of trangle with spaces5 8.33 2.5\n"
     ]
    }
   ],
   "source": [
    "a,b,c=[float(i) for i in input(\"Enter the sides of trangle with spaces\").split()]\n",
    "ob=subclass(a,b,c)"
   ]
  },
  {
   "cell_type": "code",
   "execution_count": 3,
   "id": "df9154ec",
   "metadata": {},
   "outputs": [
    {
     "name": "stdout",
     "output_type": "stream",
     "text": [
      "(4.4090890877364586e-16+7.200588922138592j)\n"
     ]
    }
   ],
   "source": [
    "print(ob.calculate())"
   ]
  },
  {
   "cell_type": "markdown",
   "id": "f42c4bee",
   "metadata": {},
   "source": [
    "Q 1.2"
   ]
  },
  {
   "cell_type": "code",
   "execution_count": 4,
   "id": "229d9ec5",
   "metadata": {},
   "outputs": [
    {
     "name": "stdout",
     "output_type": "stream",
     "text": [
      "Enter words with space: afa thdfs lhkhj vf srgsfg\n",
      "enter the number4\n"
     ]
    }
   ],
   "source": [
    "words_list=[i for i in input(\"Enter words with space: \").split()]\n",
    "n=int(input(\"enter the number\"))\n",
    "def words(words_list,n):\n",
    "    l=[]\n",
    "    for i in words_list:\n",
    "        if len(i)>n:\n",
    "            l.append(i)\n",
    "    return(l)"
   ]
  },
  {
   "cell_type": "code",
   "execution_count": 5,
   "id": "8e1de47b",
   "metadata": {},
   "outputs": [
    {
     "data": {
      "text/plain": [
       "['thdfs', 'lhkhj', 'srgsfg']"
      ]
     },
     "execution_count": 5,
     "metadata": {},
     "output_type": "execute_result"
    }
   ],
   "source": [
    "words(words_list,n)"
   ]
  },
  {
   "cell_type": "markdown",
   "id": "ebdf5a55",
   "metadata": {},
   "source": [
    "Q 2.1"
   ]
  },
  {
   "cell_type": "code",
   "execution_count": 6,
   "id": "e8ec6765",
   "metadata": {},
   "outputs": [
    {
     "name": "stdout",
     "output_type": "stream",
     "text": [
      "Enter different words with space: dsfs yjgh avss\n"
     ]
    },
    {
     "data": {
      "text/plain": [
       "[4, 4, 4]"
      ]
     },
     "execution_count": 6,
     "metadata": {},
     "output_type": "execute_result"
    }
   ],
   "source": [
    "list_words=[i for i in input(\"Enter different words with space: \").split()]\n",
    "def calc(list_words):\n",
    "    l=[]\n",
    "    for i in list_words:\n",
    "        l.append(len(i))\n",
    "    return l\n",
    "calc(list_words)"
   ]
  },
  {
   "cell_type": "markdown",
   "id": "6b998204",
   "metadata": {},
   "source": [
    "Q 2.2"
   ]
  },
  {
   "cell_type": "code",
   "execution_count": 8,
   "id": "170d116f",
   "metadata": {},
   "outputs": [
    {
     "name": "stdout",
     "output_type": "stream",
     "text": [
      "Enter the character: l\n"
     ]
    },
    {
     "data": {
      "text/plain": [
       "False"
      ]
     },
     "execution_count": 8,
     "metadata": {},
     "output_type": "execute_result"
    }
   ],
   "source": [
    "c= input(\"Enter the character: \")\n",
    "def check(c):\n",
    "    string='aeiouAEIOU'\n",
    "    if c in string:\n",
    "        return True\n",
    "    else:\n",
    "        return False\n",
    "check(c)"
   ]
  },
  {
   "cell_type": "code",
   "execution_count": null,
   "id": "edb6db4d",
   "metadata": {},
   "outputs": [],
   "source": []
  }
 ],
 "metadata": {
  "kernelspec": {
   "display_name": "Python 3",
   "language": "python",
   "name": "python3"
  },
  "language_info": {
   "codemirror_mode": {
    "name": "ipython",
    "version": 3
   },
   "file_extension": ".py",
   "mimetype": "text/x-python",
   "name": "python",
   "nbconvert_exporter": "python",
   "pygments_lexer": "ipython3",
   "version": "3.7.1"
  }
 },
 "nbformat": 4,
 "nbformat_minor": 5
}
